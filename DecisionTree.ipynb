{
  "nbformat": 4,
  "nbformat_minor": 0,
  "metadata": {
    "colab": {
      "provenance": [],
      "authorship_tag": "ABX9TyM2pfXc/0BnEzX2U8Una2fH",
      "include_colab_link": true
    },
    "kernelspec": {
      "name": "python3",
      "display_name": "Python 3"
    },
    "language_info": {
      "name": "python"
    }
  },
  "cells": [
    {
      "cell_type": "markdown",
      "metadata": {
        "id": "view-in-github",
        "colab_type": "text"
      },
      "source": [
        "<a href=\"https://colab.research.google.com/github/hriteshMaikap/fromScratch/blob/main/DecisionTree.ipynb\" target=\"_parent\"><img src=\"https://colab.research.google.com/assets/colab-badge.svg\" alt=\"Open In Colab\"/></a>"
      ]
    },
    {
      "cell_type": "markdown",
      "source": [
        "# Decision Tree from Scratch"
      ],
      "metadata": {
        "id": "KY7hj4m87ncf"
      }
    },
    {
      "cell_type": "markdown",
      "source": [
        "##1. Understanding and exploring the data\n",
        "The dataset chosen is about `Plant Growth Data Classification` where based on factors like `soil-type`, `sunlight-hours`, `water-frequency`, `fertilizer-types`, `temperature`, `humidity` we need to predict the *growth milestone* (either 0 or 1). This is a simple binary classification task which is suitable for a decision tree being designed from scratch"
      ],
      "metadata": {
        "id": "JW-AdoQP62ln"
      }
    },
    {
      "cell_type": "code",
      "source": [
        "import pandas as pd\n",
        "import numpy as np\n",
        "import matplotlib.pyplot as plt"
      ],
      "metadata": {
        "id": "0cQ9r0DA8Ll7"
      },
      "execution_count": null,
      "outputs": []
    },
    {
      "cell_type": "code",
      "source": [
        "df = pd.read_csv(\"/content/plant_growth_data.csv\")"
      ],
      "metadata": {
        "id": "cFhq-vB98TgA"
      },
      "execution_count": null,
      "outputs": []
    },
    {
      "cell_type": "code",
      "source": [
        "df.head()"
      ],
      "metadata": {
        "colab": {
          "base_uri": "https://localhost:8080/",
          "height": 206
        },
        "id": "sdvBGNyP9Kkp",
        "outputId": "de65ff58-2a61-458a-c2bb-f72cf271a2ff"
      },
      "execution_count": null,
      "outputs": [
        {
          "output_type": "execute_result",
          "data": {
            "text/plain": [
              "  Soil_Type  Sunlight_Hours Water_Frequency Fertilizer_Type  Temperature  \\\n",
              "0      loam        5.192294       bi-weekly        chemical    31.719602   \n",
              "1     sandy        4.033133          weekly         organic    28.919484   \n",
              "2      loam        8.892769       bi-weekly            none    23.179059   \n",
              "3      loam        8.241144       bi-weekly            none    18.465886   \n",
              "4     sandy        8.374043       bi-weekly         organic    18.128741   \n",
              "\n",
              "    Humidity  Growth_Milestone  \n",
              "0  61.591861                 0  \n",
              "1  52.422276                 1  \n",
              "2  44.660539                 0  \n",
              "3  46.433227                 0  \n",
              "4  63.625923                 0  "
            ],
            "text/html": [
              "\n",
              "  <div id=\"df-c7781868-9704-41e6-a285-69db02a72d8d\" class=\"colab-df-container\">\n",
              "    <div>\n",
              "<style scoped>\n",
              "    .dataframe tbody tr th:only-of-type {\n",
              "        vertical-align: middle;\n",
              "    }\n",
              "\n",
              "    .dataframe tbody tr th {\n",
              "        vertical-align: top;\n",
              "    }\n",
              "\n",
              "    .dataframe thead th {\n",
              "        text-align: right;\n",
              "    }\n",
              "</style>\n",
              "<table border=\"1\" class=\"dataframe\">\n",
              "  <thead>\n",
              "    <tr style=\"text-align: right;\">\n",
              "      <th></th>\n",
              "      <th>Soil_Type</th>\n",
              "      <th>Sunlight_Hours</th>\n",
              "      <th>Water_Frequency</th>\n",
              "      <th>Fertilizer_Type</th>\n",
              "      <th>Temperature</th>\n",
              "      <th>Humidity</th>\n",
              "      <th>Growth_Milestone</th>\n",
              "    </tr>\n",
              "  </thead>\n",
              "  <tbody>\n",
              "    <tr>\n",
              "      <th>0</th>\n",
              "      <td>loam</td>\n",
              "      <td>5.192294</td>\n",
              "      <td>bi-weekly</td>\n",
              "      <td>chemical</td>\n",
              "      <td>31.719602</td>\n",
              "      <td>61.591861</td>\n",
              "      <td>0</td>\n",
              "    </tr>\n",
              "    <tr>\n",
              "      <th>1</th>\n",
              "      <td>sandy</td>\n",
              "      <td>4.033133</td>\n",
              "      <td>weekly</td>\n",
              "      <td>organic</td>\n",
              "      <td>28.919484</td>\n",
              "      <td>52.422276</td>\n",
              "      <td>1</td>\n",
              "    </tr>\n",
              "    <tr>\n",
              "      <th>2</th>\n",
              "      <td>loam</td>\n",
              "      <td>8.892769</td>\n",
              "      <td>bi-weekly</td>\n",
              "      <td>none</td>\n",
              "      <td>23.179059</td>\n",
              "      <td>44.660539</td>\n",
              "      <td>0</td>\n",
              "    </tr>\n",
              "    <tr>\n",
              "      <th>3</th>\n",
              "      <td>loam</td>\n",
              "      <td>8.241144</td>\n",
              "      <td>bi-weekly</td>\n",
              "      <td>none</td>\n",
              "      <td>18.465886</td>\n",
              "      <td>46.433227</td>\n",
              "      <td>0</td>\n",
              "    </tr>\n",
              "    <tr>\n",
              "      <th>4</th>\n",
              "      <td>sandy</td>\n",
              "      <td>8.374043</td>\n",
              "      <td>bi-weekly</td>\n",
              "      <td>organic</td>\n",
              "      <td>18.128741</td>\n",
              "      <td>63.625923</td>\n",
              "      <td>0</td>\n",
              "    </tr>\n",
              "  </tbody>\n",
              "</table>\n",
              "</div>\n",
              "    <div class=\"colab-df-buttons\">\n",
              "\n",
              "  <div class=\"colab-df-container\">\n",
              "    <button class=\"colab-df-convert\" onclick=\"convertToInteractive('df-c7781868-9704-41e6-a285-69db02a72d8d')\"\n",
              "            title=\"Convert this dataframe to an interactive table.\"\n",
              "            style=\"display:none;\">\n",
              "\n",
              "  <svg xmlns=\"http://www.w3.org/2000/svg\" height=\"24px\" viewBox=\"0 -960 960 960\">\n",
              "    <path d=\"M120-120v-720h720v720H120Zm60-500h600v-160H180v160Zm220 220h160v-160H400v160Zm0 220h160v-160H400v160ZM180-400h160v-160H180v160Zm440 0h160v-160H620v160ZM180-180h160v-160H180v160Zm440 0h160v-160H620v160Z\"/>\n",
              "  </svg>\n",
              "    </button>\n",
              "\n",
              "  <style>\n",
              "    .colab-df-container {\n",
              "      display:flex;\n",
              "      gap: 12px;\n",
              "    }\n",
              "\n",
              "    .colab-df-convert {\n",
              "      background-color: #E8F0FE;\n",
              "      border: none;\n",
              "      border-radius: 50%;\n",
              "      cursor: pointer;\n",
              "      display: none;\n",
              "      fill: #1967D2;\n",
              "      height: 32px;\n",
              "      padding: 0 0 0 0;\n",
              "      width: 32px;\n",
              "    }\n",
              "\n",
              "    .colab-df-convert:hover {\n",
              "      background-color: #E2EBFA;\n",
              "      box-shadow: 0px 1px 2px rgba(60, 64, 67, 0.3), 0px 1px 3px 1px rgba(60, 64, 67, 0.15);\n",
              "      fill: #174EA6;\n",
              "    }\n",
              "\n",
              "    .colab-df-buttons div {\n",
              "      margin-bottom: 4px;\n",
              "    }\n",
              "\n",
              "    [theme=dark] .colab-df-convert {\n",
              "      background-color: #3B4455;\n",
              "      fill: #D2E3FC;\n",
              "    }\n",
              "\n",
              "    [theme=dark] .colab-df-convert:hover {\n",
              "      background-color: #434B5C;\n",
              "      box-shadow: 0px 1px 3px 1px rgba(0, 0, 0, 0.15);\n",
              "      filter: drop-shadow(0px 1px 2px rgba(0, 0, 0, 0.3));\n",
              "      fill: #FFFFFF;\n",
              "    }\n",
              "  </style>\n",
              "\n",
              "    <script>\n",
              "      const buttonEl =\n",
              "        document.querySelector('#df-c7781868-9704-41e6-a285-69db02a72d8d button.colab-df-convert');\n",
              "      buttonEl.style.display =\n",
              "        google.colab.kernel.accessAllowed ? 'block' : 'none';\n",
              "\n",
              "      async function convertToInteractive(key) {\n",
              "        const element = document.querySelector('#df-c7781868-9704-41e6-a285-69db02a72d8d');\n",
              "        const dataTable =\n",
              "          await google.colab.kernel.invokeFunction('convertToInteractive',\n",
              "                                                    [key], {});\n",
              "        if (!dataTable) return;\n",
              "\n",
              "        const docLinkHtml = 'Like what you see? Visit the ' +\n",
              "          '<a target=\"_blank\" href=https://colab.research.google.com/notebooks/data_table.ipynb>data table notebook</a>'\n",
              "          + ' to learn more about interactive tables.';\n",
              "        element.innerHTML = '';\n",
              "        dataTable['output_type'] = 'display_data';\n",
              "        await google.colab.output.renderOutput(dataTable, element);\n",
              "        const docLink = document.createElement('div');\n",
              "        docLink.innerHTML = docLinkHtml;\n",
              "        element.appendChild(docLink);\n",
              "      }\n",
              "    </script>\n",
              "  </div>\n",
              "\n",
              "\n",
              "<div id=\"df-5fb79528-85ee-473e-831c-95e458ad6cdf\">\n",
              "  <button class=\"colab-df-quickchart\" onclick=\"quickchart('df-5fb79528-85ee-473e-831c-95e458ad6cdf')\"\n",
              "            title=\"Suggest charts\"\n",
              "            style=\"display:none;\">\n",
              "\n",
              "<svg xmlns=\"http://www.w3.org/2000/svg\" height=\"24px\"viewBox=\"0 0 24 24\"\n",
              "     width=\"24px\">\n",
              "    <g>\n",
              "        <path d=\"M19 3H5c-1.1 0-2 .9-2 2v14c0 1.1.9 2 2 2h14c1.1 0 2-.9 2-2V5c0-1.1-.9-2-2-2zM9 17H7v-7h2v7zm4 0h-2V7h2v10zm4 0h-2v-4h2v4z\"/>\n",
              "    </g>\n",
              "</svg>\n",
              "  </button>\n",
              "\n",
              "<style>\n",
              "  .colab-df-quickchart {\n",
              "      --bg-color: #E8F0FE;\n",
              "      --fill-color: #1967D2;\n",
              "      --hover-bg-color: #E2EBFA;\n",
              "      --hover-fill-color: #174EA6;\n",
              "      --disabled-fill-color: #AAA;\n",
              "      --disabled-bg-color: #DDD;\n",
              "  }\n",
              "\n",
              "  [theme=dark] .colab-df-quickchart {\n",
              "      --bg-color: #3B4455;\n",
              "      --fill-color: #D2E3FC;\n",
              "      --hover-bg-color: #434B5C;\n",
              "      --hover-fill-color: #FFFFFF;\n",
              "      --disabled-bg-color: #3B4455;\n",
              "      --disabled-fill-color: #666;\n",
              "  }\n",
              "\n",
              "  .colab-df-quickchart {\n",
              "    background-color: var(--bg-color);\n",
              "    border: none;\n",
              "    border-radius: 50%;\n",
              "    cursor: pointer;\n",
              "    display: none;\n",
              "    fill: var(--fill-color);\n",
              "    height: 32px;\n",
              "    padding: 0;\n",
              "    width: 32px;\n",
              "  }\n",
              "\n",
              "  .colab-df-quickchart:hover {\n",
              "    background-color: var(--hover-bg-color);\n",
              "    box-shadow: 0 1px 2px rgba(60, 64, 67, 0.3), 0 1px 3px 1px rgba(60, 64, 67, 0.15);\n",
              "    fill: var(--button-hover-fill-color);\n",
              "  }\n",
              "\n",
              "  .colab-df-quickchart-complete:disabled,\n",
              "  .colab-df-quickchart-complete:disabled:hover {\n",
              "    background-color: var(--disabled-bg-color);\n",
              "    fill: var(--disabled-fill-color);\n",
              "    box-shadow: none;\n",
              "  }\n",
              "\n",
              "  .colab-df-spinner {\n",
              "    border: 2px solid var(--fill-color);\n",
              "    border-color: transparent;\n",
              "    border-bottom-color: var(--fill-color);\n",
              "    animation:\n",
              "      spin 1s steps(1) infinite;\n",
              "  }\n",
              "\n",
              "  @keyframes spin {\n",
              "    0% {\n",
              "      border-color: transparent;\n",
              "      border-bottom-color: var(--fill-color);\n",
              "      border-left-color: var(--fill-color);\n",
              "    }\n",
              "    20% {\n",
              "      border-color: transparent;\n",
              "      border-left-color: var(--fill-color);\n",
              "      border-top-color: var(--fill-color);\n",
              "    }\n",
              "    30% {\n",
              "      border-color: transparent;\n",
              "      border-left-color: var(--fill-color);\n",
              "      border-top-color: var(--fill-color);\n",
              "      border-right-color: var(--fill-color);\n",
              "    }\n",
              "    40% {\n",
              "      border-color: transparent;\n",
              "      border-right-color: var(--fill-color);\n",
              "      border-top-color: var(--fill-color);\n",
              "    }\n",
              "    60% {\n",
              "      border-color: transparent;\n",
              "      border-right-color: var(--fill-color);\n",
              "    }\n",
              "    80% {\n",
              "      border-color: transparent;\n",
              "      border-right-color: var(--fill-color);\n",
              "      border-bottom-color: var(--fill-color);\n",
              "    }\n",
              "    90% {\n",
              "      border-color: transparent;\n",
              "      border-bottom-color: var(--fill-color);\n",
              "    }\n",
              "  }\n",
              "</style>\n",
              "\n",
              "  <script>\n",
              "    async function quickchart(key) {\n",
              "      const quickchartButtonEl =\n",
              "        document.querySelector('#' + key + ' button');\n",
              "      quickchartButtonEl.disabled = true;  // To prevent multiple clicks.\n",
              "      quickchartButtonEl.classList.add('colab-df-spinner');\n",
              "      try {\n",
              "        const charts = await google.colab.kernel.invokeFunction(\n",
              "            'suggestCharts', [key], {});\n",
              "      } catch (error) {\n",
              "        console.error('Error during call to suggestCharts:', error);\n",
              "      }\n",
              "      quickchartButtonEl.classList.remove('colab-df-spinner');\n",
              "      quickchartButtonEl.classList.add('colab-df-quickchart-complete');\n",
              "    }\n",
              "    (() => {\n",
              "      let quickchartButtonEl =\n",
              "        document.querySelector('#df-5fb79528-85ee-473e-831c-95e458ad6cdf button');\n",
              "      quickchartButtonEl.style.display =\n",
              "        google.colab.kernel.accessAllowed ? 'block' : 'none';\n",
              "    })();\n",
              "  </script>\n",
              "</div>\n",
              "\n",
              "    </div>\n",
              "  </div>\n"
            ],
            "application/vnd.google.colaboratory.intrinsic+json": {
              "type": "dataframe",
              "variable_name": "df",
              "summary": "{\n  \"name\": \"df\",\n  \"rows\": 193,\n  \"fields\": [\n    {\n      \"column\": \"Soil_Type\",\n      \"properties\": {\n        \"dtype\": \"category\",\n        \"num_unique_values\": 3,\n        \"samples\": [\n          \"loam\",\n          \"sandy\",\n          \"clay\"\n        ],\n        \"semantic_type\": \"\",\n        \"description\": \"\"\n      }\n    },\n    {\n      \"column\": \"Sunlight_Hours\",\n      \"properties\": {\n        \"dtype\": \"number\",\n        \"std\": 1.5995085200445003,\n        \"min\": 4.033132702741614,\n        \"max\": 9.913902724663604,\n        \"num_unique_values\": 190,\n        \"samples\": [\n          6.817,\n          7.289,\n          5.932\n        ],\n        \"semantic_type\": \"\",\n        \"description\": \"\"\n      }\n    },\n    {\n      \"column\": \"Water_Frequency\",\n      \"properties\": {\n        \"dtype\": \"category\",\n        \"num_unique_values\": 3,\n        \"samples\": [\n          \"bi-weekly\",\n          \"weekly\",\n          \"daily\"\n        ],\n        \"semantic_type\": \"\",\n        \"description\": \"\"\n      }\n    },\n    {\n      \"column\": \"Fertilizer_Type\",\n      \"properties\": {\n        \"dtype\": \"category\",\n        \"num_unique_values\": 3,\n        \"samples\": [\n          \"chemical\",\n          \"organic\",\n          \"none\"\n        ],\n        \"semantic_type\": \"\",\n        \"description\": \"\"\n      }\n    },\n    {\n      \"column\": \"Temperature\",\n      \"properties\": {\n        \"dtype\": \"number\",\n        \"std\": 5.354169908274035,\n        \"min\": 15.2,\n        \"max\": 34.81010284001347,\n        \"num_unique_values\": 189,\n        \"samples\": [\n          22.1,\n          20.2,\n          15.287869772595116\n        ],\n        \"semantic_type\": \"\",\n        \"description\": \"\"\n      }\n    },\n    {\n      \"column\": \"Humidity\",\n      \"properties\": {\n        \"dtype\": \"number\",\n        \"std\": 12.631798837872593,\n        \"min\": 30.567682238370956,\n        \"max\": 79.64823980596502,\n        \"num_unique_values\": 191,\n        \"samples\": [\n          50.8,\n          74.51318919454582,\n          57.2\n        ],\n        \"semantic_type\": \"\",\n        \"description\": \"\"\n      }\n    },\n    {\n      \"column\": \"Growth_Milestone\",\n      \"properties\": {\n        \"dtype\": \"number\",\n        \"std\": 0,\n        \"min\": 0,\n        \"max\": 1,\n        \"num_unique_values\": 2,\n        \"samples\": [\n          1,\n          0\n        ],\n        \"semantic_type\": \"\",\n        \"description\": \"\"\n      }\n    }\n  ]\n}"
            }
          },
          "metadata": {},
          "execution_count": 58
        }
      ]
    },
    {
      "cell_type": "code",
      "source": [
        "df.info()"
      ],
      "metadata": {
        "colab": {
          "base_uri": "https://localhost:8080/"
        },
        "id": "oklV1NS19MW7",
        "outputId": "05ab89d9-7349-4fe4-d040-8e8d177095d5"
      },
      "execution_count": null,
      "outputs": [
        {
          "output_type": "stream",
          "name": "stdout",
          "text": [
            "<class 'pandas.core.frame.DataFrame'>\n",
            "RangeIndex: 193 entries, 0 to 192\n",
            "Data columns (total 7 columns):\n",
            " #   Column            Non-Null Count  Dtype  \n",
            "---  ------            --------------  -----  \n",
            " 0   Soil_Type         193 non-null    object \n",
            " 1   Sunlight_Hours    193 non-null    float64\n",
            " 2   Water_Frequency   193 non-null    object \n",
            " 3   Fertilizer_Type   193 non-null    object \n",
            " 4   Temperature       193 non-null    float64\n",
            " 5   Humidity          193 non-null    float64\n",
            " 6   Growth_Milestone  193 non-null    int64  \n",
            "dtypes: float64(3), int64(1), object(3)\n",
            "memory usage: 10.7+ KB\n"
          ]
        }
      ]
    },
    {
      "cell_type": "code",
      "source": [
        "df.isna().sum()"
      ],
      "metadata": {
        "colab": {
          "base_uri": "https://localhost:8080/",
          "height": 303
        },
        "id": "DZiEa4Oj9Nu1",
        "outputId": "c98228d7-aa69-4328-9b6d-c35db941a3c0"
      },
      "execution_count": null,
      "outputs": [
        {
          "output_type": "execute_result",
          "data": {
            "text/plain": [
              "Soil_Type           0\n",
              "Sunlight_Hours      0\n",
              "Water_Frequency     0\n",
              "Fertilizer_Type     0\n",
              "Temperature         0\n",
              "Humidity            0\n",
              "Growth_Milestone    0\n",
              "dtype: int64"
            ],
            "text/html": [
              "<table border=\"1\" class=\"dataframe\">\n",
              "  <thead>\n",
              "    <tr style=\"text-align: right;\">\n",
              "      <th></th>\n",
              "      <th>0</th>\n",
              "    </tr>\n",
              "  </thead>\n",
              "  <tbody>\n",
              "    <tr>\n",
              "      <th>Soil_Type</th>\n",
              "      <td>0</td>\n",
              "    </tr>\n",
              "    <tr>\n",
              "      <th>Sunlight_Hours</th>\n",
              "      <td>0</td>\n",
              "    </tr>\n",
              "    <tr>\n",
              "      <th>Water_Frequency</th>\n",
              "      <td>0</td>\n",
              "    </tr>\n",
              "    <tr>\n",
              "      <th>Fertilizer_Type</th>\n",
              "      <td>0</td>\n",
              "    </tr>\n",
              "    <tr>\n",
              "      <th>Temperature</th>\n",
              "      <td>0</td>\n",
              "    </tr>\n",
              "    <tr>\n",
              "      <th>Humidity</th>\n",
              "      <td>0</td>\n",
              "    </tr>\n",
              "    <tr>\n",
              "      <th>Growth_Milestone</th>\n",
              "      <td>0</td>\n",
              "    </tr>\n",
              "  </tbody>\n",
              "</table><br><label><b>dtype:</b> int64</label>"
            ]
          },
          "metadata": {},
          "execution_count": 60
        }
      ]
    },
    {
      "cell_type": "code",
      "source": [
        "for column in df.columns:\n",
        "  if pd.api.types.is_object_dtype(df[column]):\n",
        "    print(f\"For the catgeorical column {column}, the unique values are:\")\n",
        "    print(df[column].unique(), \"\\n\\n\")"
      ],
      "metadata": {
        "colab": {
          "base_uri": "https://localhost:8080/"
        },
        "id": "ZMSRdj4x9Pp0",
        "outputId": "318f7b8d-57c1-4cc6-b931-7f0784884f7f"
      },
      "execution_count": null,
      "outputs": [
        {
          "output_type": "stream",
          "name": "stdout",
          "text": [
            "For the catgeorical column Soil_Type, the unique values are:\n",
            "['loam' 'sandy' 'clay'] \n",
            "\n",
            "\n",
            "For the catgeorical column Water_Frequency, the unique values are:\n",
            "['bi-weekly' 'weekly' 'daily'] \n",
            "\n",
            "\n",
            "For the catgeorical column Fertilizer_Type, the unique values are:\n",
            "['chemical' 'organic' 'none'] \n",
            "\n",
            "\n"
          ]
        }
      ]
    },
    {
      "cell_type": "markdown",
      "source": [
        "###Distribution of Data (to check if data is equally split in categories)"
      ],
      "metadata": {
        "id": "cE0M06kd9ZI_"
      }
    },
    {
      "cell_type": "code",
      "source": [
        "cat_cols = [column for column in df.columns if pd.api.types.is_object_dtype(df[column])]\n",
        "n_cols = 2\n",
        "n_rows = (len(cat_cols)+1)//n_cols\n",
        "fig, ax = plt.subplots(n_rows, n_cols, sharex=True, sharey=True)\n",
        "ax = ax.flatten() #this prevents the error: 'numpy.ndarray' object has no attribute 'pie'\n",
        "for i, column in enumerate(cat_cols):\n",
        "  counts = df[column].value_counts()\n",
        "  ax[i].pie(counts, labels=counts.index, autopct='%1.1f%%')\n",
        "  ax[i].set_title(f'{column} Distribution')\n",
        "# Hide any unused subplots\n",
        "for j in range(i + 1, len(ax)):\n",
        "    fig.delaxes(ax[j])\n",
        "plt.tight_layout()\n",
        "plt.show()"
      ],
      "metadata": {
        "colab": {
          "base_uri": "https://localhost:8080/",
          "height": 486
        },
        "id": "bZ2fKEvo9gCm",
        "outputId": "7f4be68e-d766-462e-996e-72b31f1eed61"
      },
      "execution_count": null,
      "outputs": [
        {
          "output_type": "display_data",
          "data": {
            "text/plain": [
              "<Figure size 640x480 with 3 Axes>"
            ],
            "image/png": "[encoded data removed]"
          },
          "metadata": {}
        }
      ]
    },
    {
      "cell_type": "markdown",
      "source": [
        "###Checking if the data is balanced"
      ],
      "metadata": {
        "id": "XD5BeQwPS5XR"
      }
    },
    {
      "cell_type": "code",
      "source": [
        "growth_counts = df[\"Growth_Milestone\"].value_counts()\n",
        "plt.bar(growth_counts.index, growth_counts.values)\n",
        "plt.xlabel('Growth Milestone')\n",
        "plt.xticks([0,1])\n",
        "plt.ylabel('Counts')\n",
        "plt.title('Growth Milestone Distribution')\n",
        "plt.show()"
      ],
      "metadata": {
        "colab": {
          "base_uri": "https://localhost:8080/",
          "height": 472
        },
        "id": "VudT2cGHWjuP",
        "outputId": "c198d7c4-c8b9-4c88-abb9-2be15e2de099"
      },
      "execution_count": null,
      "outputs": [
        {
          "output_type": "display_data",
          "data": {
            "text/plain": [
              "<Figure size 640x480 with 1 Axes>"
            ],
            "image/png": "[encoded data removed]"
          },
          "metadata": {}
        }
      ]
    },
    {
      "cell_type": "markdown",
      "source": [
        "###Encoding the data"
      ],
      "metadata": {
        "id": "iTqDE_DTWrSL"
      }
    },
    {
      "cell_type": "code",
      "source": [
        "from sklearn.preprocessing import LabelEncoder\n",
        "label_encoders = {}\n",
        "for col in df.select_dtypes(include='object').columns:\n",
        "  le = LabelEncoder()\n",
        "  df[col] = le.fit_transform(df[col])\n",
        "  label_encoders[col] = le"
      ],
      "metadata": {
        "id": "iIOh8S9mZw9C"
      },
      "execution_count": null,
      "outputs": []
    },
    {
      "cell_type": "markdown",
      "source": [
        "### Data Standardization"
      ],
      "metadata": {
        "id": "pKSy5zOQZ4nj"
      }
    },
    {
      "cell_type": "code",
      "source": [
        "from sklearn.preprocessing import StandardScaler\n",
        "numerical_features = []\n",
        "for val in df.columns:\n",
        "  if pd.api.types.is_numeric_dtype(df[val]):\n",
        "    numerical_features.append(val)\n",
        "scaler = StandardScaler()\n",
        "numerical_features.remove('Growth_Milestone')\n",
        "\n",
        "df[numerical_features] = scaler.fit_transform(df[numerical_features])"
      ],
      "metadata": {
        "id": "00izC9myaU5x"
      },
      "execution_count": null,
      "outputs": []
    },
    {
      "cell_type": "markdown",
      "source": [
        "###Correlation Matrix"
      ],
      "metadata": {
        "id": "KM8tFc8AatFA"
      }
    },
    {
      "cell_type": "code",
      "source": [
        "import seaborn as sns\n",
        "corr = df.corr()\n",
        "plt.figure(figsize=(10,10))\n",
        "sns.heatmap(corr, annot=True)\n",
        "plt.show()"
      ],
      "metadata": {
        "colab": {
          "base_uri": "https://localhost:8080/",
          "height": 946
        },
        "id": "DHTQSjPlcx5i",
        "outputId": "2a37fade-38a6-4def-f132-5ec00c77743a"
      },
      "execution_count": null,
      "outputs": [
        {
          "output_type": "display_data",
          "data": {
            "text/plain": [
              "<Figure size 1000x1000 with 2 Axes>"
            ],
            "image/png": "[encoded data removed]"
          },
          "metadata": {}
        }
      ]
    },
    {
      "cell_type": "markdown",
      "source": [
        "##2. Preparing the dataset for custom Decision Tree Function"
      ],
      "metadata": {
        "id": "gf0xr92Vgzwb"
      }
    },
    {
      "cell_type": "code",
      "source": [
        "X = df.drop(\"Growth_Milestone\", axis=1).values\n",
        "y = df[\"Growth_Milestone\"].values.reshape(-1,1)"
      ],
      "metadata": {
        "id": "sIJ-yvTMgeeo"
      },
      "execution_count": null,
      "outputs": []
    },
    {
      "cell_type": "markdown",
      "source": [
        "##3. Custom Classes and Methods"
      ],
      "metadata": {
        "id": "4IWA7krGhA2P"
      }
    },
    {
      "cell_type": "code",
      "source": [
        "class Node:\n",
        "    def __init__(self, feature=None, threshold=None, left=None, right=None, gain=None, value=None):\n",
        "      \"\"\"\n",
        "    feature: feature used for splitting at this node. Default None\n",
        "    threshold: The threshold used for splitting at this node\n",
        "    left: The left child node.\n",
        "    right: The right child node\n",
        "    gain: The gain of the split\n",
        "    value: If this node is a leaf node, this attribute represents the predicted value for target variable\n",
        "    \"\"\"\n",
        "      self.feature = feature\n",
        "      self.threshold = threshold\n",
        "      self.left = left\n",
        "      self.right = right\n",
        "      self.gain = gain\n",
        "      self.value = value"
      ],
      "metadata": {
        "id": "MwR_krOEgyb1"
      },
      "execution_count": null,
      "outputs": []
    },
    {
      "cell_type": "code",
      "source": [
        "class DecisionTree():\n",
        "    \"\"\"\n",
        "    A decision tree classifier for binary classification problem\n",
        "    \"\"\"\n",
        "    def __init__(self, min_samples=2, max_depth=2):\n",
        "        \"\"\"\n",
        "        Constructor for decision tree class\n",
        "        min_samples: Minimum number of samples required to split an internal node\n",
        "        max_depth: Maximum depth of the decision tree\n",
        "        \"\"\"\n",
        "        self.min_samples = min_samples\n",
        "        self.max_depth = max_depth\n",
        "\n",
        "    def split_data(self, dataset, feature, threshold):\n",
        "        \"\"\"\n",
        "        Splits the dataset into two datasets based on the given feature and threshold\n",
        "        Parameters:\n",
        "        dataset (ndarray): input dataset\n",
        "        feature (int): index of the feature on which the dataset is to be split\n",
        "        threshold (float): Threshold value to split the feature on\n",
        "\n",
        "        Returns:\n",
        "        left_dataset (ndarray): Subset of the dataset with values less than or equal to the threshold\n",
        "        right_dataset (ndarray): Subset of the dataset with values greater than the threshold\n",
        "        \"\"\"\n",
        "        left_dataset = []\n",
        "        right_dataset = []\n",
        "        for row in dataset:\n",
        "            if row[feature] <= threshold:\n",
        "                left_dataset.append(row)\n",
        "            else:\n",
        "                right_dataset.append(row)\n",
        "\n",
        "        left_dataset = np.array(left_dataset)\n",
        "        right_dataset = np.array(right_dataset)\n",
        "        return left_dataset, right_dataset\n",
        "\n",
        "    def entropy(self, y):\n",
        "        \"\"\"\n",
        "        Computes the entropy of the given label values\n",
        "        Parameters:\n",
        "        y (ndarray): Input label values.\n",
        "\n",
        "        Returns:\n",
        "        entropy (float): Entropy of the given label values.\n",
        "        \"\"\"\n",
        "        entropy = 0\n",
        "        labels = np.unique(y)\n",
        "        for label in labels:\n",
        "            # Find examples in y that have the current label\n",
        "            label_examples = y[y == label]\n",
        "            # Calculate the ratio of the current label\n",
        "            p1 = len(label_examples) / len(y)\n",
        "            entropy += -p1 * np.log2(p1)\n",
        "\n",
        "        return entropy\n",
        "\n",
        "    def information_gain(self, parent, left, right):\n",
        "        \"\"\"\n",
        "        Parameters:\n",
        "        parent (ndarray): Input parent dataset\n",
        "        left (ndarray): Subset of the parent dataset after splitting it on a feature\n",
        "        right (ndarray): Subset of the parent dataset after splitting it on a feature\n",
        "\n",
        "        Returns:\n",
        "        information_gain (float)\n",
        "        \"\"\"\n",
        "        parent_entropy = self.entropy(parent)\n",
        "        weight_left = len(left) / len(parent)\n",
        "        weight_right = len(right) / len(parent)\n",
        "        entropy_left, entropy_right = self.entropy(left), self.entropy(right)\n",
        "        weighted_entropy = weight_left * entropy_left + weight_right * entropy_right\n",
        "        information_gain = parent_entropy - weighted_entropy\n",
        "\n",
        "        return information_gain\n",
        "\n",
        "    def best_split(self, dataset, num_samples, num_features):\n",
        "        \"\"\"\n",
        "        Finds the best split for the dataset\n",
        "        Parameters:\n",
        "        dataset (ndarray): The dataset to split\n",
        "        num_samples (int): The number of samples in the dataset\n",
        "        num_features (int): The number of features in the dataset\n",
        "\n",
        "        Returns:\n",
        "        dict: A dictionary with the best split feature index, threshold, gain, left and right datasets\n",
        "        \"\"\"\n",
        "        best_split = {'gain': -1, 'feature': None, 'threshold': None}\n",
        "        for feature_index in range(num_features):\n",
        "            # Get the feature at the current feature_index\n",
        "            feature_values = dataset[:, feature_index]\n",
        "            thresholds = np.unique(feature_values)\n",
        "            for threshold in thresholds:\n",
        "                left_dataset, right_dataset = self.split_data(dataset, feature_index, threshold)\n",
        "                if len(left_dataset) and len(right_dataset):\n",
        "                    y, left_y, right_y = dataset[:, -1], left_dataset[:, -1], right_dataset[:, -1]\n",
        "                    information_gain = self.information_gain(y, left_y, right_y)\n",
        "                    if information_gain > best_split[\"gain\"]:\n",
        "                        best_split[\"feature\"] = feature_index\n",
        "                        best_split[\"threshold\"] = threshold\n",
        "                        best_split[\"left_dataset\"] = left_dataset\n",
        "                        best_split[\"right_dataset\"] = right_dataset\n",
        "                        best_split[\"gain\"] = information_gain\n",
        "\n",
        "        return best_split\n",
        "\n",
        "    def calculate_leaf_value(self, y):\n",
        "        y = list(y)\n",
        "        most_occurring_value = max(y, key=y.count)\n",
        "        return most_occurring_value\n",
        "\n",
        "    def build_tree(self, dataset, current_depth=0):\n",
        "        \"\"\"\n",
        "        Recursively build a decision tree from the given dataset\n",
        "        Parameters:\n",
        "        dataset (ndarray): The dataset to build the tree from.\n",
        "        current_depth (int): The current depth of the tree\n",
        "\n",
        "        Returns:\n",
        "        Node: The node of the built decision tree\n",
        "        \"\"\"\n",
        "        X, y = dataset[:, :-1], dataset[:, -1]\n",
        "        n_samples, n_features = X.shape\n",
        "        if n_samples >= self.min_samples and current_depth <= self.max_depth:\n",
        "            best_split = self.best_split(dataset, n_samples, n_features)\n",
        "            # Checks if the gain isn't zero\n",
        "            if best_split[\"gain\"]:\n",
        "                left_node = self.build_tree(best_split[\"left_dataset\"], current_depth + 1)\n",
        "                right_node = self.build_tree(best_split[\"right_dataset\"], current_depth + 1)\n",
        "                return Node(best_split[\"feature\"], best_split[\"threshold\"], left_node, right_node, best_split[\"gain\"])\n",
        "        leaf_value = self.calculate_leaf_value(y)\n",
        "        return Node(value=leaf_value)\n",
        "\n",
        "    def make_prediction(self, x, node):\n",
        "        \"\"\"\n",
        "        Traverse the decision tree to predict the target value for the given feature vector\n",
        "        \"\"\"\n",
        "        # If the node is a leaf node/ it has value\n",
        "        if node.value is not None:\n",
        "            return node.value\n",
        "        else:\n",
        "            feature = x[node.feature]\n",
        "            if feature <= node.threshold:\n",
        "                return self.make_prediction(x, node.left)\n",
        "            else:\n",
        "                return self.make_prediction(x, node.right)\n",
        "\n",
        "    def fit(self, X, y):\n",
        "        dataset = np.concatenate((X, y), axis=1)\n",
        "        self.root = self.build_tree(dataset)\n",
        "\n",
        "    def predict(self, X):\n",
        "        predictions = []\n",
        "        for x in X:\n",
        "            prediction = self.make_prediction(x, self.root)\n",
        "            predictions.append(prediction)\n",
        "        return np.array(predictions)"
      ],
      "metadata": {
        "id": "x7qMTGM7hk5h"
      },
      "execution_count": null,
      "outputs": []
    },
    {
      "cell_type": "markdown",
      "source": [
        "## 4. Evaluations"
      ],
      "metadata": {
        "id": "lTGFYwdchlSD"
      }
    },
    {
      "cell_type": "code",
      "source": [
        "def train_test_split(X, y, random_state=42, test_size=0.2):\n",
        "    n_samples = X.shape[0]\n",
        "    np.random.seed(random_state)\n",
        "    shuffled_indices = np.random.permutation(np.arange(n_samples))\n",
        "    test_size = int(n_samples * test_size)\n",
        "    test_indices = shuffled_indices[:test_size]\n",
        "    train_indices = shuffled_indices[test_size:]\n",
        "    X_train, X_test = X[train_indices], X[test_indices]\n",
        "    y_train, y_test = y[train_indices], y[test_indices]\n",
        "\n",
        "    return X_train, X_test, y_train, y_test"
      ],
      "metadata": {
        "id": "eNJYtJMPhwSf"
      },
      "execution_count": null,
      "outputs": []
    },
    {
      "cell_type": "code",
      "source": [
        "def accuracy(y_true, y_pred):\n",
        "  y_true = y_true.flatten()\n",
        "  total_samples = len(y_true)\n",
        "  correct_predictions = np.sum(y_true == y_pred)\n",
        "  return (correct_predictions / total_samples)"
      ],
      "metadata": {
        "id": "K_0jbLEEhws-"
      },
      "execution_count": null,
      "outputs": []
    },
    {
      "cell_type": "markdown",
      "source": [
        "## 5. Calling the model"
      ],
      "metadata": {
        "id": "_4TdQmlWmuqI"
      }
    },
    {
      "cell_type": "code",
      "source": [
        "X_train, X_test, y_train, y_test = train_test_split(X, y, random_state=42, test_size=0.2)"
      ],
      "metadata": {
        "id": "0zm3BX5rh0ZH"
      },
      "execution_count": null,
      "outputs": []
    },
    {
      "cell_type": "code",
      "source": [
        "model = DecisionTree(2, 2)\n",
        "model.fit(X_train, y_train)\n",
        "preds = model.predict(X_test)\n",
        "print(f\"Model's Accuracy: {accuracy(y_test, preds)}\")"
      ],
      "metadata": {
        "colab": {
          "base_uri": "https://localhost:8080/"
        },
        "id": "2__PId1liCgX",
        "outputId": "68d8061d-2b21-4dfe-9486-20e8b1606002"
      },
      "execution_count": null,
      "outputs": [
        {
          "output_type": "stream",
          "name": "stdout",
          "text": [
            "Model's Accuracy: 0.5263157894736842\n"
          ]
        }
      ]
    },
    {
      "cell_type": "markdown",
      "source": [
        "# Using In-Built Libraries"
      ],
      "metadata": {
        "id": "D6rXJsN0m21w"
      }
    },
    {
      "cell_type": "code",
      "source": [
        "import numpy as np\n",
        "import pandas as pd\n",
        "from sklearn.preprocessing import LabelEncoder\n",
        "from sklearn.model_selection import train_test_split\n",
        "from sklearn.preprocessing import StandardScaler\n",
        "from sklearn.tree import DecisionTreeClassifier\n",
        "from sklearn.metrics import accuracy_score"
      ],
      "metadata": {
        "id": "UlbL8gKfj8km"
      },
      "execution_count": null,
      "outputs": []
    },
    {
      "cell_type": "code",
      "source": [
        "X = df.drop('Growth_Milestone', axis=1)\n",
        "y = df['Growth_Milestone']"
      ],
      "metadata": {
        "id": "4s88CGDtkvP_"
      },
      "execution_count": null,
      "outputs": []
    },
    {
      "cell_type": "code",
      "source": [
        "label_encoders = {}\n",
        "for col in X.select_dtypes(include='object').columns:\n",
        "  le = LabelEncoder()\n",
        "  X[col] = le.fit_transform(X[col])\n",
        "  label_encoders[col] = le"
      ],
      "metadata": {
        "id": "vlRhhVSgkxsD"
      },
      "execution_count": null,
      "outputs": []
    },
    {
      "cell_type": "code",
      "source": [
        "numerical_features = ['Sunlight_Hours', 'Temperature', 'Humidity']\n",
        "scaler = StandardScaler()\n",
        "\n",
        "X[numerical_features] = scaler.fit_transform(X[numerical_features])"
      ],
      "metadata": {
        "id": "_ZXziFV8kzZU"
      },
      "execution_count": null,
      "outputs": []
    },
    {
      "cell_type": "code",
      "source": [
        "X_train, X_test, y_train, y_test = train_test_split(X, y, test_size=0.3, random_state=42)"
      ],
      "metadata": {
        "id": "dyTSxN1lk05m"
      },
      "execution_count": null,
      "outputs": []
    },
    {
      "cell_type": "code",
      "source": [
        "model = DecisionTreeClassifier(random_state=42)"
      ],
      "metadata": {
        "id": "vxTL_41dk22a"
      },
      "execution_count": null,
      "outputs": []
    },
    {
      "cell_type": "code",
      "source": [
        "model.fit(X_train, y_train)"
      ],
      "metadata": {
        "colab": {
          "base_uri": "https://localhost:8080/",
          "height": 74
        },
        "id": "CrOxo7Guk4sd",
        "outputId": "963d575b-191c-417c-84af-e3f235951d9f"
      },
      "execution_count": null,
      "outputs": [
        {
          "output_type": "execute_result",
          "data": {
            "text/plain": [
              "DecisionTreeClassifier(random_state=42)"
            ],
            "text/html": [
              "<style>#sk-container-id-1 {color: black;}#sk-container-id-1 pre{padding: 0;}#sk-container-id-1 div.sk-toggleable {background-color: white;}#sk-container-id-1 label.sk-toggleable__label {cursor: pointer;display: block;width: 100%;margin-bottom: 0;padding: 0.3em;box-sizing: border-box;text-align: center;}#sk-container-id-1 label.sk-toggleable__label-arrow:before {content: \"▸\";float: left;margin-right: 0.25em;color: #696969;}#sk-container-id-1 label.sk-toggleable__label-arrow:hover:before {color: black;}#sk-container-id-1 div.sk-estimator:hover label.sk-toggleable__label-arrow:before {color: black;}#sk-container-id-1 div.sk-toggleable__content {max-height: 0;max-width: 0;overflow: hidden;text-align: left;background-color: #f0f8ff;}#sk-container-id-1 div.sk-toggleable__content pre {margin: 0.2em;color: black;border-radius: 0.25em;background-color: #f0f8ff;}#sk-container-id-1 input.sk-toggleable__control:checked~div.sk-toggleable__content {max-height: 200px;max-width: 100%;overflow: auto;}#sk-container-id-1 input.sk-toggleable__control:checked~label.sk-toggleable__label-arrow:before {content: \"▾\";}#sk-container-id-1 div.sk-estimator input.sk-toggleable__control:checked~label.sk-toggleable__label {background-color: #d4ebff;}#sk-container-id-1 div.sk-label input.sk-toggleable__control:checked~label.sk-toggleable__label {background-color: #d4ebff;}#sk-container-id-1 input.sk-hidden--visually {border: 0;clip: rect(1px 1px 1px 1px);clip: rect(1px, 1px, 1px, 1px);height: 1px;margin: -1px;overflow: hidden;padding: 0;position: absolute;width: 1px;}#sk-container-id-1 div.sk-estimator {font-family: monospace;background-color: #f0f8ff;border: 1px dotted black;border-radius: 0.25em;box-sizing: border-box;margin-bottom: 0.5em;}#sk-container-id-1 div.sk-estimator:hover {background-color: #d4ebff;}#sk-container-id-1 div.sk-parallel-item::after {content: \"\";width: 100%;border-bottom: 1px solid gray;flex-grow: 1;}#sk-container-id-1 div.sk-label:hover label.sk-toggleable__label {background-color: #d4ebff;}#sk-container-id-1 div.sk-serial::before {content: \"\";position: absolute;border-left: 1px solid gray;box-sizing: border-box;top: 0;bottom: 0;left: 50%;z-index: 0;}#sk-container-id-1 div.sk-serial {display: flex;flex-direction: column;align-items: center;background-color: white;padding-right: 0.2em;padding-left: 0.2em;position: relative;}#sk-container-id-1 div.sk-item {position: relative;z-index: 1;}#sk-container-id-1 div.sk-parallel {display: flex;align-items: stretch;justify-content: center;background-color: white;position: relative;}#sk-container-id-1 div.sk-item::before, #sk-container-id-1 div.sk-parallel-item::before {content: \"\";position: absolute;border-left: 1px solid gray;box-sizing: border-box;top: 0;bottom: 0;left: 50%;z-index: -1;}#sk-container-id-1 div.sk-parallel-item {display: flex;flex-direction: column;z-index: 1;position: relative;background-color: white;}#sk-container-id-1 div.sk-parallel-item:first-child::after {align-self: flex-end;width: 50%;}#sk-container-id-1 div.sk-parallel-item:last-child::after {align-self: flex-start;width: 50%;}#sk-container-id-1 div.sk-parallel-item:only-child::after {width: 0;}#sk-container-id-1 div.sk-dashed-wrapped {border: 1px dashed gray;margin: 0 0.4em 0.5em 0.4em;box-sizing: border-box;padding-bottom: 0.4em;background-color: white;}#sk-container-id-1 div.sk-label label {font-family: monospace;font-weight: bold;display: inline-block;line-height: 1.2em;}#sk-container-id-1 div.sk-label-container {text-align: center;}#sk-container-id-1 div.sk-container {/* jupyter's `normalize.less` sets `[hidden] { display: none; }` but bootstrap.min.css set `[hidden] { display: none !important; }` so we also need the `!important` here to be able to override the default hidden behavior on the sphinx rendered scikit-learn.org. See: https://github.com/scikit-learn/scikit-learn/issues/21755 */display: inline-block !important;position: relative;}#sk-container-id-1 div.sk-text-repr-fallback {display: none;}</style><div id=\"sk-container-id-1\" class=\"sk-top-container\"><div class=\"sk-text-repr-fallback\"><pre>DecisionTreeClassifier(random_state=42)</pre><b>In a Jupyter environment, please rerun this cell to show the HTML representation or trust the notebook. <br />On GitHub, the HTML representation is unable to render, please try loading this page with nbviewer.org.</b></div><div class=\"sk-container\" hidden><div class=\"sk-item\"><div class=\"sk-estimator sk-toggleable\"><input class=\"sk-toggleable__control sk-hidden--visually\" id=\"sk-estimator-id-1\" type=\"checkbox\" checked><label for=\"sk-estimator-id-1\" class=\"sk-toggleable__label sk-toggleable__label-arrow\">DecisionTreeClassifier</label><div class=\"sk-toggleable__content\"><pre>DecisionTreeClassifier(random_state=42)</pre></div></div></div></div></div>"
            ]
          },
          "metadata": {},
          "execution_count": 81
        }
      ]
    },
    {
      "cell_type": "code",
      "source": [
        "y_pred = model.predict(X_test)"
      ],
      "metadata": {
        "id": "mCA8MUNDk525"
      },
      "execution_count": null,
      "outputs": []
    },
    {
      "cell_type": "code",
      "source": [
        "accuracy = accuracy_score(y_test, y_pred)\n",
        "print(f\"Accuracy score is: {accuracy:.2f}\")"
      ],
      "metadata": {
        "colab": {
          "base_uri": "https://localhost:8080/"
        },
        "id": "m5V_sTX8lrRj",
        "outputId": "91c42a17-742a-4c7a-99df-e934fda9612c"
      },
      "execution_count": null,
      "outputs": [
        {
          "output_type": "stream",
          "name": "stdout",
          "text": [
            "Accuracy score is: 0.57\n"
          ]
        }
      ]
    }
  ]
}